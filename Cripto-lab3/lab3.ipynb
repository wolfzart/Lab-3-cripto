{
  "nbformat": 4,
  "nbformat_minor": 0,
  "metadata": {
    "colab": {
      "name": "lab3.ipynb",
      "provenance": [],
      "collapsed_sections": []
    },
    "kernelspec": {
      "name": "python3",
      "display_name": "Python 3"
    },
    "language_info": {
      "name": "python"
    }
  },
  "cells": [
    {
      "cell_type": "markdown",
      "source": [
        "Dado el éxito de las anteriores campañas de ayuda en materia de seguridad informática. Son contratados por el gremio de los dueños de los sitios de contraseñas expuestas. Los cuales ofrecen una cuantiosa suma si es que se le entrega un algoritmo propio de Hashs a fin de poder resguardar sus sitios y por sobre todo, sus contraseñas. El representante de los dueños de sitios web vulnerados, exige de que el Algoritmo, debe tener cómo mínimo un set de características, para asegurar un estándar mínimo de seguridad. Las características son las siguientes:\n",
        "\n",
        "1. El número de caracteres final del texto procesado, debe ser fijo y no menor de 55 caracteres. Este número no debe variar, aunque el texto de entrada sea más largo.\n",
        "\n",
        "2. Se requiere que el programa pueda recibir como entrada, tanto un String o texto mediante STDIN, cómo archivos. En este último caso, se pide que el programa pueda trabajar con el contenido de los archivos (procesando línea por línea el contenido del archivo), y con el archivo en su conjunto.\n",
        "\n",
        "\n",
        "3. Cualquier ligero cambio al texto de entrada, debe cambiar el resultado final del algoritmo, aunque se debe mantener el mismo valor de Hash para el mismo String ingresado (Aunque sea por un tiempo determinado).\n",
        "\n",
        "\n",
        "4. El procesamiento del texto de entrada, debe  ser rápido, no debe tomar mucho tiempo, independiente de la cantidad de texto de entrada. * Se recomienda el uso de operaciones matemáticas al texto de entrada, a fin de optimizar la velocidad de procesamiento del texto de entrada*\n",
        "\n",
        "5. Adicionalmente se requiere que posea a lo menos dos opciones:\n",
        "\n",
        "- una que procese la entrada y calcule el Hash de estas entradas (sea por STDIN, cómo mediante un archivo).\n",
        "\n",
        "- Y otra opción que sólo calcule la entropía del texto de entrada. En este último caso, debe arrojar mediante STDOUT que entropía posee cada texto de entrada (El formato de la salida a STDOUT, debe mostrar tanto el texto analizado, cómo la entropía calculada separada por un delimitador que permita diferenciar los diferentes campos)."
      ],
      "metadata": {
        "id": "cXGPxB4Kh6BT"
      }
    },
    {
      "cell_type": "markdown",
      "source": [
        "Subir archivo a colab"
      ],
      "metadata": {
        "id": "NthdNKvilmSt"
      }
    },
    {
      "cell_type": "markdown",
      "source": [
        "# Funciones\n"
      ],
      "metadata": {
        "id": "lXfX49z1coB2"
      }
    },
    {
      "cell_type": "code",
      "source": [
        "def hexadecimal(passw):\n",
        "  hexa=passw.encode('utf-8').hex()\n",
        "  return hexa"
      ],
      "metadata": {
        "id": "KojBxV3WWJoq"
      },
      "execution_count": null,
      "outputs": []
    },
    {
      "cell_type": "code",
      "source": [
        "def letrasxnumeros(palabraHexa):\n",
        "  palabraHexa=str(palabraHexa)\n",
        "  palabraHexa=palabraHexa.replace(\"a\",\"1\")\n",
        "  palabraHexa=palabraHexa.replace(\"b\",\"2\")\n",
        "  palabraHexa=palabraHexa.replace('c','3')\n",
        "  palabraHexa=palabraHexa.replace(\"d\",\"4\")\n",
        "  palabraHexa=palabraHexa.replace(\"e\",\"5\")\n",
        "  palabraHexa=palabraHexa.replace(\"f\",\"8\")\n",
        "  return palabraHexa"
      ],
      "metadata": {
        "id": "qTWu0VHiZhZ9"
      },
      "execution_count": null,
      "outputs": []
    },
    {
      "cell_type": "code",
      "source": [
        "def aumentarTamaño(palabraNumber,tamaño):\n",
        "  true=False\n",
        "  conta=0\n",
        "  while true!=True:\n",
        "    if (len(palabraNumber)>110):\n",
        "      if conta==0:\n",
        "        palabraNumber=int(palabraNumber)\n",
        "        palabraNumber=palabraNumber*tamaño\n",
        "        palabraNumber=str(palabraNumber)\n",
        "      break\n",
        "    palabraNumber=int(palabraNumber)\n",
        "    palabraNumber=palabraNumber*tamaño\n",
        "    palabraNumber=str(palabraNumber)\n",
        "    conta=conta+1\n",
        "  \n",
        "  return palabraNumber\n"
      ],
      "metadata": {
        "id": "1iofjSEklEog"
      },
      "execution_count": null,
      "outputs": []
    },
    {
      "cell_type": "code",
      "source": [
        "def convertir(hexaxhash):\n",
        "  base90=[[\"0\",\"1\",\"2\",\"3\",\"4\",\"5\",\"6\",\"7\",\"8\",\"9\"],\n",
        "          [\"a\",\"A\",\"b\",\"B\",\"c\",\"C\",\"d\",\"D\",\"e\",\"E\"],\n",
        "          [\"f\",\"F\",\"g\",\"G\",\"h\",\"H\",\"i\",\"I\",\"j\",\"J\"],\n",
        "          [\"k\",\"K\",\"l\",\"L\",\"m\",\"M\",\"n\",\"N\",\"o\",\"O\"],\n",
        "          [\"p\",\"P\",\"q\",\"Q\",\"r\",\"R\",\"s\",\"S\",\"t\",\"T\"],\n",
        "          [\"u\",\"U\",\"v\",\"V\",\"w\",\"W\",\"x\",\"X\",\"y\",\"Y\"],\n",
        "          [\"z\",\"Z\",\"Ñ\",\"ñ\",\"&\",\"$\",\"#\",\"=\",\"?\",\"¿\"],\n",
        "          [\"+\",\"-\",\"%\",\"(\",\")\",\"[\",\"]\",\"{\",\"}\",\".\"],\n",
        "          [\",\",\"_\",\"*\",\"/\",\"<\",\">\",\";\",\":\",\"¡\",\"!\"],\n",
        "          [\"0\",\"1\",\"2\",\"3\",\"4\",\"5\",\"6\",\"7\",\"8\",\"9\"],\n",
        "          ]\n",
        "  palabra=\"\"\n",
        "  for i in range(0,110,2):\n",
        "    palabra=palabra+base90[int(hexaxhash[i])][int(hexaxhash[i+1])]\n",
        "  return palabra\n",
        "    \n"
      ],
      "metadata": {
        "id": "7KY9qw47eJQ6"
      },
      "execution_count": null,
      "outputs": []
    },
    {
      "cell_type": "code",
      "source": [
        "def hashh(passw):\n",
        "  #tamaño de la contraseña texto plano\n",
        "  tamañopassw=len(passw)\n",
        "  \n",
        "  #pasar al hexadecimal\n",
        "  hexad=hexadecimal(passw)\n",
        "  \n",
        "  #cambiar las letras del hexadecimal a numero\n",
        "  textonumeros=letrasxnumeros(hexad)\n",
        "  \n",
        "  #se aumentan el numero  multiplicandolo por el tamaño de la contraseña \n",
        "  newtextonumeros=aumentarTamaño(textonumeros,tamañopassw)\n",
        "  convertirHash =convertir(newtextonumeros)\n",
        "  #print(passw+\" - \"+convertirHash)\n",
        "  return convertirHash\n",
        "  #\n"
      ],
      "metadata": {
        "id": "qW8IDlQJ9vFS"
      },
      "execution_count": null,
      "outputs": []
    },
    {
      "cell_type": "code",
      "source": [
        "import numpy as np\n",
        "def entropia(largopalabra,base):\n",
        "  entropia=largopalabra*np.log2(base)\n",
        "  return entropia"
      ],
      "metadata": {
        "id": "_-No2W3GtZqT"
      },
      "execution_count": null,
      "outputs": []
    },
    {
      "cell_type": "markdown",
      "source": [
        "# Main\n",
        "\n",
        "cada vez que suba un archivo nuevo, colocar el nombre del archivo en la linea (\"with open(\"archivo.txt\") as archivo:\"), en caso de ser el mismo nombre del archivo anteriormente subido pero con contenido distinto, colocar otro nombre al archivo, ya que los archivos quedan guardados. "
      ],
      "metadata": {
        "id": "3ualUE5zctn7"
      }
    },
    {
      "cell_type": "code",
      "source": [
        "from google.colab import files\n",
        "salir=False\n",
        "while salir==False:\n",
        "  print(\"1- Escribir una contraseña\")\n",
        "  print(\"2- Agregar un archivo con contraseñas(.txt)\")\n",
        "  print(\"3- Salir\")\n",
        "  opcion=input()\n",
        "  if (opcion==\"1\"):\n",
        "    palabra=input(\"Escriba su contraseña: \")\n",
        "    newHash=hashh(palabra)\n",
        "    print(palabra , \"-\" , newHash) \n",
        "    print(newHash)\n",
        "    print(\"************\")\n",
        "    print(\"Calcular entropia\")\n",
        "    print(\"1- Si\")\n",
        "    print(\"2- No\")\n",
        "    op=input()\n",
        "    tamaño=len(palabra)\n",
        "    if op==\"1\":\n",
        "      print(\"******************\")\n",
        "      print(\"*****Entropia*****\")\n",
        "      print(\"******************\")\n",
        "      print(palabra+\" - \",entropia(tamaño,94))\n",
        "  elif (opcion==\"2\"):\n",
        "    files.upload()\n",
        "    datos = []\n",
        "    with open(\"archivo.txt\") as archivo:\n",
        "      lineas = archivo.readlines()\n",
        "      for linea in lineas:\n",
        "        datos.append(linea.strip('\\n'))\n",
        "    for i in range(len(datos)):\n",
        "      print(datos[i] , \"-\" , hashh(datos[i])) \n",
        "    print(\"Calcular entropia\")\n",
        "    print(\"1- Si\")\n",
        "    print(\"2- No\")\n",
        "    op=input()\n",
        "    if op==\"1\":\n",
        "      print(\"******************\")\n",
        "      print(\"*****Entropia*****\")\n",
        "      print(\"******************\")    \n",
        "      for i in range(len(datos)):\n",
        "        print(datos[i]+\" - \",entropia(len(datos[i]),94))\n",
        "\n",
        "  else:\n",
        "    salir=True\n",
        "  print(\"*******************************************************\")\n"
      ],
      "metadata": {
        "id": "xC8Mgq0klvbB",
        "colab": {
          "resources": {
            "http://localhost:8080/nbextensions/google.colab/files.js": {
              "data": "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",
              "ok": true,
              "headers": [
                [
                  "content-type",
                  "application/javascript"
                ]
              ],
              "status": 200,
              "status_text": ""
            }
          },
          "base_uri": "https://localhost:8080/",
          "height": 1000
        },
        "outputId": "0069af76-2e42-4e60-e9db-157b20502cab"
      },
      "execution_count": null,
      "outputs": [
        {
          "name": "stdout",
          "output_type": "stream",
          "text": [
            "1- Escribir una contraseña\n",
            "2- Agregar un archivo con contraseñas(.txt)\n",
            "3- Salir\n",
            "2\n"
          ]
        },
        {
          "output_type": "display_data",
          "data": {
            "text/plain": [
              "<IPython.core.display.HTML object>"
            ],
            "text/html": [
              "\n",
              "     <input type=\"file\" id=\"files-fac4ff3c-b1d3-4dbd-9edd-aba015243e79\" name=\"files[]\" multiple disabled\n",
              "        style=\"border:none\" />\n",
              "     <output id=\"result-fac4ff3c-b1d3-4dbd-9edd-aba015243e79\">\n",
              "      Upload widget is only available when the cell has been executed in the\n",
              "      current browser session. Please rerun this cell to enable.\n",
              "      </output>\n",
              "      <script src=\"/nbextensions/google.colab/files.js\"></script> "
            ]
          },
          "metadata": {}
        },
        {
          "name": "stdout",
          "output_type": "stream",
          "text": [
            "Saving archivo.txt to archivo.txt\n",
            "Calcular entropia\n",
            "1- Si\n",
            "2- No\n",
            "2\n",
            "*******************************************************\n",
            "1- Escribir una contraseña\n",
            "2- Agregar un archivo con contraseñas(.txt)\n",
            "3- Salir\n",
            "2\n"
          ]
        },
        {
          "output_type": "display_data",
          "data": {
            "text/plain": [
              "<IPython.core.display.HTML object>"
            ],
            "text/html": [
              "\n",
              "     <input type=\"file\" id=\"files-bbdaec8a-2192-4264-addc-2bc05299d25c\" name=\"files[]\" multiple disabled\n",
              "        style=\"border:none\" />\n",
              "     <output id=\"result-bbdaec8a-2192-4264-addc-2bc05299d25c\">\n",
              "      Upload widget is only available when the cell has been executed in the\n",
              "      current browser session. Please rerun this cell to enable.\n",
              "      </output>\n",
              "      <script src=\"/nbextensions/google.colab/files.js\"></script> "
            ]
          },
          "metadata": {}
        },
        {
          "output_type": "stream",
          "name": "stdout",
          "text": [
            "Saving archivo.txt to archivo.txt\n",
            "hola - CoO1Y97$;En?TDE})t!wS)RN8nO#ig[2<;rxOIs37lVgL96j=)4M1KB\n",
            "hola - CoO1Y97$;En?TDE})t!wS)RN8nO#ig[2<;rxOIs37lVgL96j=)4M1KB\n",
            "hOla - CL16¿z&aHMCX0lñ=Nz38GPwNñ=9[xq[h&=d81>99>QRzyu9)MY_fOKB\n",
            "hóla - G1n1!KNp4#[0g2kJ{?z9:¡(¡N8c>!AÑVÑ&_?aj*:AVid(cGr7,6=3Aq\n",
            "Calcular entropia\n",
            "1- Si\n",
            "2- No\n",
            "1\n",
            "******************\n",
            "*****Entropia*****\n",
            "******************\n",
            "hola -  26.21835540671055\n",
            "hola -  26.21835540671055\n",
            "hOla -  26.21835540671055\n",
            "hóla -  26.21835540671055\n",
            "*******************************************************\n",
            "1- Escribir una contraseña\n",
            "2- Agregar un archivo con contraseñas(.txt)\n",
            "3- Salir\n"
          ]
        },
        {
          "output_type": "error",
          "ename": "KeyboardInterrupt",
          "evalue": "ignored",
          "traceback": [
            "\u001b[0;31m---------------------------------------------------------------------------\u001b[0m",
            "\u001b[0;31mKeyboardInterrupt\u001b[0m                         Traceback (most recent call last)",
            "\u001b[0;32m/usr/local/lib/python3.7/dist-packages/ipykernel/kernelbase.py\u001b[0m in \u001b[0;36m_input_request\u001b[0;34m(self, prompt, ident, parent, password)\u001b[0m\n\u001b[1;32m    728\u001b[0m             \u001b[0;32mtry\u001b[0m\u001b[0;34m:\u001b[0m\u001b[0;34m\u001b[0m\u001b[0;34m\u001b[0m\u001b[0m\n\u001b[0;32m--> 729\u001b[0;31m                 \u001b[0mident\u001b[0m\u001b[0;34m,\u001b[0m \u001b[0mreply\u001b[0m \u001b[0;34m=\u001b[0m \u001b[0mself\u001b[0m\u001b[0;34m.\u001b[0m\u001b[0msession\u001b[0m\u001b[0;34m.\u001b[0m\u001b[0mrecv\u001b[0m\u001b[0;34m(\u001b[0m\u001b[0mself\u001b[0m\u001b[0;34m.\u001b[0m\u001b[0mstdin_socket\u001b[0m\u001b[0;34m,\u001b[0m \u001b[0;36m0\u001b[0m\u001b[0;34m)\u001b[0m\u001b[0;34m\u001b[0m\u001b[0;34m\u001b[0m\u001b[0m\n\u001b[0m\u001b[1;32m    730\u001b[0m             \u001b[0;32mexcept\u001b[0m \u001b[0mException\u001b[0m\u001b[0;34m:\u001b[0m\u001b[0;34m\u001b[0m\u001b[0;34m\u001b[0m\u001b[0m\n",
            "\u001b[0;32m/usr/local/lib/python3.7/dist-packages/jupyter_client/session.py\u001b[0m in \u001b[0;36mrecv\u001b[0;34m(self, socket, mode, content, copy)\u001b[0m\n\u001b[1;32m    802\u001b[0m         \u001b[0;32mtry\u001b[0m\u001b[0;34m:\u001b[0m\u001b[0;34m\u001b[0m\u001b[0;34m\u001b[0m\u001b[0m\n\u001b[0;32m--> 803\u001b[0;31m             \u001b[0mmsg_list\u001b[0m \u001b[0;34m=\u001b[0m \u001b[0msocket\u001b[0m\u001b[0;34m.\u001b[0m\u001b[0mrecv_multipart\u001b[0m\u001b[0;34m(\u001b[0m\u001b[0mmode\u001b[0m\u001b[0;34m,\u001b[0m \u001b[0mcopy\u001b[0m\u001b[0;34m=\u001b[0m\u001b[0mcopy\u001b[0m\u001b[0;34m)\u001b[0m\u001b[0;34m\u001b[0m\u001b[0;34m\u001b[0m\u001b[0m\n\u001b[0m\u001b[1;32m    804\u001b[0m         \u001b[0;32mexcept\u001b[0m \u001b[0mzmq\u001b[0m\u001b[0;34m.\u001b[0m\u001b[0mZMQError\u001b[0m \u001b[0;32mas\u001b[0m \u001b[0me\u001b[0m\u001b[0;34m:\u001b[0m\u001b[0;34m\u001b[0m\u001b[0;34m\u001b[0m\u001b[0m\n",
            "\u001b[0;32m/usr/local/lib/python3.7/dist-packages/zmq/sugar/socket.py\u001b[0m in \u001b[0;36mrecv_multipart\u001b[0;34m(self, flags, copy, track)\u001b[0m\n\u001b[1;32m    726\u001b[0m         \"\"\"\n\u001b[0;32m--> 727\u001b[0;31m         \u001b[0mparts\u001b[0m \u001b[0;34m=\u001b[0m \u001b[0;34m[\u001b[0m\u001b[0mself\u001b[0m\u001b[0;34m.\u001b[0m\u001b[0mrecv\u001b[0m\u001b[0;34m(\u001b[0m\u001b[0mflags\u001b[0m\u001b[0;34m,\u001b[0m \u001b[0mcopy\u001b[0m\u001b[0;34m=\u001b[0m\u001b[0mcopy\u001b[0m\u001b[0;34m,\u001b[0m \u001b[0mtrack\u001b[0m\u001b[0;34m=\u001b[0m\u001b[0mtrack\u001b[0m\u001b[0;34m)\u001b[0m\u001b[0;34m]\u001b[0m\u001b[0;34m\u001b[0m\u001b[0;34m\u001b[0m\u001b[0m\n\u001b[0m\u001b[1;32m    728\u001b[0m         \u001b[0;31m# have first part already, only loop while more to receive\u001b[0m\u001b[0;34m\u001b[0m\u001b[0;34m\u001b[0m\u001b[0;34m\u001b[0m\u001b[0m\n",
            "\u001b[0;32mzmq/backend/cython/socket.pyx\u001b[0m in \u001b[0;36mzmq.backend.cython.socket.Socket.recv\u001b[0;34m()\u001b[0m\n",
            "\u001b[0;32mzmq/backend/cython/socket.pyx\u001b[0m in \u001b[0;36mzmq.backend.cython.socket.Socket.recv\u001b[0;34m()\u001b[0m\n",
            "\u001b[0;32mzmq/backend/cython/socket.pyx\u001b[0m in \u001b[0;36mzmq.backend.cython.socket._recv_copy\u001b[0;34m()\u001b[0m\n",
            "\u001b[0;32m/usr/local/lib/python3.7/dist-packages/zmq/backend/cython/checkrc.pxd\u001b[0m in \u001b[0;36mzmq.backend.cython.checkrc._check_rc\u001b[0;34m()\u001b[0m\n",
            "\u001b[0;31mKeyboardInterrupt\u001b[0m: ",
            "\nDuring handling of the above exception, another exception occurred:\n",
            "\u001b[0;31mKeyboardInterrupt\u001b[0m                         Traceback (most recent call last)",
            "\u001b[0;32m<ipython-input-8-55d31bdcf695>\u001b[0m in \u001b[0;36m<module>\u001b[0;34m()\u001b[0m\n\u001b[1;32m      5\u001b[0m   \u001b[0mprint\u001b[0m\u001b[0;34m(\u001b[0m\u001b[0;34m\"2- Agregar un archivo con contraseñas(.txt)\"\u001b[0m\u001b[0;34m)\u001b[0m\u001b[0;34m\u001b[0m\u001b[0;34m\u001b[0m\u001b[0m\n\u001b[1;32m      6\u001b[0m   \u001b[0mprint\u001b[0m\u001b[0;34m(\u001b[0m\u001b[0;34m\"3- Salir\"\u001b[0m\u001b[0;34m)\u001b[0m\u001b[0;34m\u001b[0m\u001b[0;34m\u001b[0m\u001b[0m\n\u001b[0;32m----> 7\u001b[0;31m   \u001b[0mopcion\u001b[0m\u001b[0;34m=\u001b[0m\u001b[0minput\u001b[0m\u001b[0;34m(\u001b[0m\u001b[0;34m)\u001b[0m\u001b[0;34m\u001b[0m\u001b[0;34m\u001b[0m\u001b[0m\n\u001b[0m\u001b[1;32m      8\u001b[0m   \u001b[0;32mif\u001b[0m \u001b[0;34m(\u001b[0m\u001b[0mopcion\u001b[0m\u001b[0;34m==\u001b[0m\u001b[0;34m\"1\"\u001b[0m\u001b[0;34m)\u001b[0m\u001b[0;34m:\u001b[0m\u001b[0;34m\u001b[0m\u001b[0;34m\u001b[0m\u001b[0m\n\u001b[1;32m      9\u001b[0m     \u001b[0mpalabra\u001b[0m\u001b[0;34m=\u001b[0m\u001b[0minput\u001b[0m\u001b[0;34m(\u001b[0m\u001b[0;34m\"Escriba su contraseña: \"\u001b[0m\u001b[0;34m)\u001b[0m\u001b[0;34m\u001b[0m\u001b[0;34m\u001b[0m\u001b[0m\n",
            "\u001b[0;32m/usr/local/lib/python3.7/dist-packages/ipykernel/kernelbase.py\u001b[0m in \u001b[0;36mraw_input\u001b[0;34m(self, prompt)\u001b[0m\n\u001b[1;32m    702\u001b[0m             \u001b[0mself\u001b[0m\u001b[0;34m.\u001b[0m\u001b[0m_parent_ident\u001b[0m\u001b[0;34m,\u001b[0m\u001b[0;34m\u001b[0m\u001b[0;34m\u001b[0m\u001b[0m\n\u001b[1;32m    703\u001b[0m             \u001b[0mself\u001b[0m\u001b[0;34m.\u001b[0m\u001b[0m_parent_header\u001b[0m\u001b[0;34m,\u001b[0m\u001b[0;34m\u001b[0m\u001b[0;34m\u001b[0m\u001b[0m\n\u001b[0;32m--> 704\u001b[0;31m             \u001b[0mpassword\u001b[0m\u001b[0;34m=\u001b[0m\u001b[0;32mFalse\u001b[0m\u001b[0;34m,\u001b[0m\u001b[0;34m\u001b[0m\u001b[0;34m\u001b[0m\u001b[0m\n\u001b[0m\u001b[1;32m    705\u001b[0m         )\n\u001b[1;32m    706\u001b[0m \u001b[0;34m\u001b[0m\u001b[0m\n",
            "\u001b[0;32m/usr/local/lib/python3.7/dist-packages/ipykernel/kernelbase.py\u001b[0m in \u001b[0;36m_input_request\u001b[0;34m(self, prompt, ident, parent, password)\u001b[0m\n\u001b[1;32m    732\u001b[0m             \u001b[0;32mexcept\u001b[0m \u001b[0mKeyboardInterrupt\u001b[0m\u001b[0;34m:\u001b[0m\u001b[0;34m\u001b[0m\u001b[0;34m\u001b[0m\u001b[0m\n\u001b[1;32m    733\u001b[0m                 \u001b[0;31m# re-raise KeyboardInterrupt, to truncate traceback\u001b[0m\u001b[0;34m\u001b[0m\u001b[0;34m\u001b[0m\u001b[0;34m\u001b[0m\u001b[0m\n\u001b[0;32m--> 734\u001b[0;31m                 \u001b[0;32mraise\u001b[0m \u001b[0mKeyboardInterrupt\u001b[0m\u001b[0;34m\u001b[0m\u001b[0;34m\u001b[0m\u001b[0m\n\u001b[0m\u001b[1;32m    735\u001b[0m             \u001b[0;32melse\u001b[0m\u001b[0;34m:\u001b[0m\u001b[0;34m\u001b[0m\u001b[0;34m\u001b[0m\u001b[0m\n\u001b[1;32m    736\u001b[0m                 \u001b[0;32mbreak\u001b[0m\u001b[0;34m\u001b[0m\u001b[0;34m\u001b[0m\u001b[0m\n",
            "\u001b[0;31mKeyboardInterrupt\u001b[0m: "
          ]
        }
      ]
    },
    {
      "cell_type": "markdown",
      "source": [
        "# Comparacion "
      ],
      "metadata": {
        "id": "dh-WHCe2E0_i"
      }
    },
    {
      "cell_type": "code",
      "source": [
        "import time\n",
        "import hashlib\n",
        "from google.colab import files\n",
        "def comparacion(palabra):\n",
        "  sb=palabra.encode(\"utf-8\")\n",
        "  inicio=time.time()\n",
        "  mio=hashh(palabra)\n",
        "  fin=time.time()\n",
        "  tiempoHash=fin-inicio\n",
        "\n",
        "  inicio=time.time()\n",
        "  md5=hashlib.md5(sb).hexdigest()\n",
        "  fin=time.time()\n",
        "  tiempoMd5=fin-inicio\n",
        "\n",
        "  inicio=time.time()\n",
        "  sha1=hashlib.sha1(sb).hexdigest()\n",
        "  fin=time.time()\n",
        "  tiemposha1=fin-inicio\n",
        "\n",
        "  inicio=time.time()\n",
        "  sha256=hashlib.sha256(sb).hexdigest()\n",
        "  fin=time.time()\n",
        "  tiempoSha256=fin-inicio\n",
        "  print(palabra,\" \",entropia(len(palabra),96),\" \",tiempoHash,\" \",tiempoMd5,\" \",tiemposha1,\" \",tiempoSha256)\n",
        "\n",
        "files.upload()\n",
        "with open(\"archivo50.txt\") as archivo:\n",
        "  lineas = archivo.readlines()\n",
        "  for linea in lineas:\n",
        "    datos.append(linea.strip('\\n'))\n",
        "    \n",
        "for i in range(len(datos)):\n",
        "  comparacion(datos[i])\n"
      ],
      "metadata": {
        "colab": {
          "resources": {
            "http://localhost:8080/nbextensions/google.colab/files.js": {
              "data": "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",
              "ok": true,
              "headers": [
                [
                  "content-type",
                  "application/javascript"
                ]
              ],
              "status": 200,
              "status_text": ""
            }
          },
          "base_uri": "https://localhost:8080/",
          "height": 1000
        },
        "id": "OpczuqpvEw4G",
        "outputId": "5eef65e0-ce6f-4db3-a28d-1bf58f711da9"
      },
      "execution_count": null,
      "outputs": [
        {
          "output_type": "display_data",
          "data": {
            "text/plain": [
              "<IPython.core.display.HTML object>"
            ],
            "text/html": [
              "\n",
              "     <input type=\"file\" id=\"files-bb1ab9b3-fe16-4631-ab72-0b54ce0f6e23\" name=\"files[]\" multiple disabled\n",
              "        style=\"border:none\" />\n",
              "     <output id=\"result-bb1ab9b3-fe16-4631-ab72-0b54ce0f6e23\">\n",
              "      Upload widget is only available when the cell has been executed in the\n",
              "      current browser session. Please rerun this cell to enable.\n",
              "      </output>\n",
              "      <script src=\"/nbextensions/google.colab/files.js\"></script> "
            ]
          },
          "metadata": {}
        },
        {
          "output_type": "stream",
          "name": "stdout",
          "text": [
            "Saving archivo50.txt to archivo50.txt\n",
            "12345   32.92481250360578   0.0002048015594482422   1.3113021850585938e-05   3.5762786865234375e-06   4.0531158447265625e-06\n",
            "123456789   59.2646625064904   0.0001819133758544922   1.1682510375976562e-05   2.6226043701171875e-06   3.337860107421875e-06\n",
            "password   52.67970000576925   0.0001571178436279297   6.9141387939453125e-06   1.9073486328125e-06   2.6226043701171875e-06\n",
            "iloveyou   52.67970000576925   0.00015997886657714844   4.5299530029296875e-06   1.6689300537109375e-06   1.9073486328125e-06\n",
            "princess   52.67970000576925   0.00014257431030273438   1.6689300537109375e-06   1.430511474609375e-06   9.5367431640625e-07\n",
            "1234567   46.094737505048094   0.0001480579376220703   1.6689300537109375e-06   7.152557373046875e-07   1.430511474609375e-06\n",
            "rockyou   46.094737505048094   0.000186920166015625   2.1457672119140625e-06   9.5367431640625e-07   1.1920928955078125e-06\n",
            "12345678   52.67970000576925   0.00015163421630859375   1.430511474609375e-06   1.1920928955078125e-06   9.5367431640625e-07\n",
            "abc123   39.50977500432694   0.00015926361083984375   1.430511474609375e-06   9.5367431640625e-07   1.430511474609375e-06\n",
            "nicole   39.50977500432694   0.00016379356384277344   1.1920928955078125e-06   1.1920928955078125e-06   9.298324584960938e-06\n",
            "daniel   39.50977500432694   0.00019478797912597656   1.1682510375976562e-05   3.0994415283203125e-06   3.814697265625e-06\n",
            "babygirl   52.67970000576925   0.0001475811004638672   1.430511474609375e-06   9.5367431640625e-07   1.430511474609375e-06\n",
            "monkey   39.50977500432694   0.00019478797912597656   2.1457672119140625e-06   1.1920928955078125e-06   1.1920928955078125e-06\n",
            "lovely   39.50977500432694   0.0001652240753173828   1.6689300537109375e-06   1.1920928955078125e-06   9.5367431640625e-07\n",
            "jessica   46.094737505048094   0.00015115737915039062   1.1920928955078125e-06   7.152557373046875e-07   1.1920928955078125e-06\n",
            "654321   39.50977500432694   0.0001609325408935547   1.1920928955078125e-06   1.1920928955078125e-06   9.5367431640625e-07\n",
            "michael   46.094737505048094   0.00016069412231445312   2.1457672119140625e-06   1.1920928955078125e-06   9.5367431640625e-07\n",
            "ashley   39.50977500432694   0.00016188621520996094   1.6689300537109375e-06   9.5367431640625e-07   9.5367431640625e-07\n",
            "qwerty   39.50977500432694   0.0001621246337890625   1.1920928955078125e-06   9.5367431640625e-07   9.5367431640625e-07\n",
            "111111   39.50977500432694   0.0001842975616455078   2.384185791015625e-06   9.5367431640625e-07   1.1920928955078125e-06\n",
            "iloveu   39.50977500432694   0.00016045570373535156   2.384185791015625e-06   1.1920928955078125e-06   1.1920928955078125e-06\n",
            "000000   39.50977500432694   0.00015592575073242188   1.430511474609375e-06   1.1920928955078125e-06   9.5367431640625e-07\n",
            "michelle   52.67970000576925   0.0001685619354248047   2.1457672119140625e-06   1.1920928955078125e-06   1.1920928955078125e-06\n",
            "tigger   39.50977500432694   0.00016808509826660156   1.430511474609375e-06   9.5367431640625e-07   9.5367431640625e-07\n",
            "sunshine   52.67970000576925   0.0001380443572998047   1.430511474609375e-06   9.5367431640625e-07   1.1920928955078125e-06\n",
            "chocolate   59.2646625064904   0.00013446807861328125   1.1920928955078125e-06   1.430511474609375e-06   9.5367431640625e-07\n",
            "password1   59.2646625064904   0.000133514404296875   1.9073486328125e-06   1.1920928955078125e-06   9.5367431640625e-07\n",
            "soccer   39.50977500432694   0.00016760826110839844   1.430511474609375e-06   9.5367431640625e-07   9.5367431640625e-07\n",
            "anthony   46.094737505048094   0.0001442432403564453   1.430511474609375e-06   9.5367431640625e-07   1.430511474609375e-06\n",
            "friends   46.094737505048094   0.00017571449279785156   3.0994415283203125e-06   1.1920928955078125e-06   1.430511474609375e-06\n",
            "daniel   39.50977500432694   0.00016999244689941406   1.9073486328125e-06   9.5367431640625e-07   1.1920928955078125e-06\n",
            "babygirl   52.67970000576925   0.00014543533325195312   1.1920928955078125e-06   1.1920928955078125e-06   1.430511474609375e-06\n",
            "monkey   39.50977500432694   0.00016164779663085938   1.430511474609375e-06   9.5367431640625e-07   1.430511474609375e-06\n",
            "lovely   39.50977500432694   0.0002346038818359375   1.1682510375976562e-05   3.337860107421875e-06   3.337860107421875e-06\n",
            "jessica   46.094737505048094   0.0001952648162841797   1.0967254638671875e-05   3.814697265625e-06   3.5762786865234375e-06\n",
            "654321   39.50977500432694   0.00021576881408691406   3.814697265625e-06   1.6689300537109375e-06   2.1457672119140625e-06\n",
            "michael   46.094737505048094   0.0002315044403076172   1.3589859008789062e-05   4.5299530029296875e-06   5.0067901611328125e-06\n",
            "ashley   39.50977500432694   0.00020456314086914062   9.059906005859375e-06   2.384185791015625e-06   3.5762786865234375e-06\n",
            "qwerty   39.50977500432694   0.00019788742065429688   3.337860107421875e-06   1.430511474609375e-06   1.6689300537109375e-06\n",
            "111111   39.50977500432694   0.00020432472229003906   2.9087066650390625e-05   3.0994415283203125e-06   3.5762786865234375e-06\n",
            "iloveu   39.50977500432694   0.00019502639770507812   2.86102294921875e-06   1.430511474609375e-06   1.9073486328125e-06\n",
            "000000   39.50977500432694   0.00022172927856445312   1.2636184692382812e-05   3.0994415283203125e-06   4.291534423828125e-06\n",
            "michelle   52.67970000576925   0.0001938343048095703   1.0251998901367188e-05   3.0994415283203125e-06   3.0994415283203125e-06\n",
            "tigger   39.50977500432694   0.00017881393432617188   4.0531158447265625e-06   1.430511474609375e-06   1.9073486328125e-06\n",
            "sunshine   52.67970000576925   0.0001850128173828125   1.2159347534179688e-05   3.337860107421875e-06   3.5762786865234375e-06\n",
            "chocolate   59.2646625064904   0.0001583099365234375   9.775161743164062e-06   3.337860107421875e-06   3.5762786865234375e-06\n",
            "password1   59.2646625064904   0.00017118453979492188   9.5367431640625e-06   3.337860107421875e-06   3.0994415283203125e-06\n",
            "soccer   39.50977500432694   0.00020742416381835938   1.3828277587890625e-05   3.337860107421875e-06   3.814697265625e-06\n",
            "anthony   46.094737505048094   0.00021386146545410156   1.2636184692382812e-05   3.337860107421875e-06   3.5762786865234375e-06\n",
            "friends   46.094737505048094   0.00017595291137695312   1.0013580322265625e-05   3.337860107421875e-06   3.5762786865234375e-06\n",
            "daniel   39.50977500432694   0.0001876354217529297   3.337860107421875e-06   1.9073486328125e-06   1.6689300537109375e-06\n",
            "babygirl   52.67970000576925   0.0002288818359375   9.5367431640625e-06   3.0994415283203125e-06   3.5762786865234375e-06\n",
            "monkey   39.50977500432694   0.00019240379333496094   7.62939453125e-06   3.0994415283203125e-06   3.0994415283203125e-06\n",
            "lovely   39.50977500432694   0.00021409988403320312   8.821487426757812e-06   2.86102294921875e-06   3.814697265625e-06\n",
            "jessica   46.094737505048094   0.0001633167266845703   3.5762786865234375e-06   1.430511474609375e-06   1.430511474609375e-06\n",
            "654321   39.50977500432694   0.00018167495727539062   2.86102294921875e-06   1.430511474609375e-06   1.430511474609375e-06\n",
            "michael   46.094737505048094   0.00018024444580078125   7.152557373046875e-06   2.384185791015625e-06   3.5762786865234375e-06\n",
            "ashley   39.50977500432694   0.0002086162567138672   4.5299530029296875e-06   1.430511474609375e-06   1.9073486328125e-06\n",
            "qwerty   39.50977500432694   0.0001850128173828125   6.4373016357421875e-06   2.384185791015625e-06   2.86102294921875e-06\n",
            "111111   39.50977500432694   0.0001850128173828125   2.6226043701171875e-06   1.6689300537109375e-06   1.6689300537109375e-06\n",
            "iloveu   39.50977500432694   0.00020813941955566406   7.152557373046875e-06   3.0994415283203125e-06   2.384185791015625e-06\n",
            "000000   39.50977500432694   0.00018739700317382812   3.337860107421875e-06   1.6689300537109375e-06   1.430511474609375e-06\n",
            "michelle   52.67970000576925   0.00017786026000976562   3.337860107421875e-06   1.430511474609375e-06   2.384185791015625e-06\n",
            "tigger   39.50977500432694   0.00019097328186035156   3.5762786865234375e-06   1.9073486328125e-06   1.430511474609375e-06\n",
            "sunshine   52.67970000576925   0.00016617774963378906   3.337860107421875e-06   1.9073486328125e-06   2.1457672119140625e-06\n",
            "chocolate   59.2646625064904   0.00016450881958007812   7.867813110351562e-06   2.86102294921875e-06   3.0994415283203125e-06\n",
            "password1   59.2646625064904   0.00016999244689941406   6.67572021484375e-06   2.1457672119140625e-06   2.6226043701171875e-06\n",
            "soccer   39.50977500432694   0.00019288063049316406   8.58306884765625e-06   2.6226043701171875e-06   3.0994415283203125e-06\n",
            "anthony   46.094737505048094   0.0001671314239501953   3.0994415283203125e-06   1.6689300537109375e-06   1.430511474609375e-06\n",
            "friends   46.094737505048094   0.0002682209014892578   1.0013580322265625e-05   3.0994415283203125e-06   3.0994415283203125e-06\n",
            "daniel   39.50977500432694   0.00020170211791992188   1.1205673217773438e-05   2.86102294921875e-06   3.814697265625e-06\n",
            "babygirl   52.67970000576925   0.00016689300537109375   9.298324584960938e-06   2.86102294921875e-06   3.0994415283203125e-06\n",
            "monkey   39.50977500432694   0.00020503997802734375   4.291534423828125e-06   1.430511474609375e-06   1.9073486328125e-06\n",
            "lovely   39.50977500432694   0.00018286705017089844   8.58306884765625e-06   2.384185791015625e-06   2.6226043701171875e-06\n",
            "jessica   46.094737505048094   0.00018286705017089844   1.1920928955078125e-05   3.337860107421875e-06   3.814697265625e-06\n",
            "654321   39.50977500432694   0.00019693374633789062   1.2636184692382812e-05   3.5762786865234375e-06   4.0531158447265625e-06\n",
            "michael   46.094737505048094   0.0002944469451904297   1.4066696166992188e-05   3.5762786865234375e-06   4.0531158447265625e-06\n",
            "ashley   39.50977500432694   0.00023126602172851562   1.3589859008789062e-05   3.814697265625e-06   5.9604644775390625e-06\n",
            "qwerty   39.50977500432694   0.000209808349609375   5.7220458984375e-06   1.9073486328125e-06   2.1457672119140625e-06\n",
            "111111   39.50977500432694   0.00018787384033203125   5.245208740234375e-06   1.430511474609375e-06   1.9073486328125e-06\n",
            "iloveu   39.50977500432694   0.00020766258239746094   1.0728836059570312e-05   3.337860107421875e-06   3.337860107421875e-06\n",
            "000000   39.50977500432694   0.00018906593322753906   3.337860107421875e-06   2.1457672119140625e-06   1.430511474609375e-06\n",
            "michelle   52.67970000576925   0.00018930435180664062   1.3113021850585938e-05   3.337860107421875e-06   3.814697265625e-06\n",
            "tigger   39.50977500432694   0.00020837783813476562   1.4543533325195312e-05   4.0531158447265625e-06   3.5762786865234375e-06\n",
            "sunshine   52.67970000576925   0.00017714500427246094   1.1682510375976562e-05   3.0994415283203125e-06   2.6226043701171875e-06\n",
            "chocolate   59.2646625064904   0.00017762184143066406   1.2636184692382812e-05   3.0994415283203125e-06   3.814697265625e-06\n",
            "password1   59.2646625064904   0.00014901161193847656   3.5762786865234375e-06   1.9073486328125e-06   1.6689300537109375e-06\n",
            "soccer   39.50977500432694   0.00017786026000976562   3.0994415283203125e-06   1.1920928955078125e-06   1.430511474609375e-06\n",
            "anthony   46.094737505048094   0.0001697540283203125   2.6226043701171875e-06   1.430511474609375e-06   1.430511474609375e-06\n",
            "friends   46.094737505048094   0.00018143653869628906   1.0728836059570312e-05   2.86102294921875e-06   3.814697265625e-06\n",
            "butterfly   59.2646625064904   0.0001728534698486328   8.106231689453125e-06   2.1457672119140625e-06   3.337860107421875e-06\n",
            "purple   39.50977500432694   0.00019478797912597656   1.4781951904296875e-05   2.86102294921875e-06   3.337860107421875e-06\n",
            "angel   32.92481250360578   0.00019025802612304688   3.337860107421875e-06   1.6689300537109375e-06   1.6689300537109375e-06\n",
            "jordan   39.50977500432694   0.0001850128173828125   1.0728836059570312e-05   3.0994415283203125e-06   3.5762786865234375e-06\n",
            "liverpool   59.2646625064904   0.00018310546875   8.344650268554688e-06   2.6226043701171875e-06   2.86102294921875e-06\n",
            "justin   39.50977500432694   0.00018453598022460938   1.0967254638671875e-05   3.0994415283203125e-06   4.291534423828125e-06\n",
            "loveme   39.50977500432694   0.0002110004425048828   1.0251998901367188e-05   3.0994415283203125e-06   3.5762786865234375e-06\n",
            "fuckyou   46.094737505048094   0.00017333030700683594   3.5762786865234375e-06   1.6689300537109375e-06   1.6689300537109375e-06\n",
            "123123   39.50977500432694   0.000179290771484375   3.337860107421875e-06   1.1920928955078125e-06   1.1920928955078125e-06\n",
            "football   52.67970000576925   0.0001976490020751953   1.2636184692382812e-05   3.337860107421875e-06   3.814697265625e-06\n",
            "secret   39.50977500432694   0.000186920166015625   1.049041748046875e-05   3.0994415283203125e-06   3.5762786865234375e-06\n",
            "andrea   39.50977500432694   0.00027871131896972656   2.6941299438476562e-05   5.245208740234375e-06   5.245208740234375e-06\n",
            "carlos   39.50977500432694   0.0003452301025390625   8.344650268554688e-06   3.0994415283203125e-06   3.337860107421875e-06\n",
            "jennifer   52.67970000576925   0.00026154518127441406   6.198883056640625e-06   3.0994415283203125e-06   3.337860107421875e-06\n",
            "joshua   39.50977500432694   0.0002601146697998047   5.4836273193359375e-06   2.86102294921875e-06   2.86102294921875e-06\n",
            "bubbles   46.094737505048094   0.00019884109497070312   5.9604644775390625e-06   1.9073486328125e-06   2.384185791015625e-06\n",
            "1234567890   65.84962500721156   0.0001437664031982422   3.337860107421875e-06   1.6689300537109375e-06   1.430511474609375e-06\n",
            "superman   52.67970000576925   0.0001621246337890625   7.152557373046875e-06   2.1457672119140625e-06   2.384185791015625e-06\n",
            "hannah   39.50977500432694   0.0001938343048095703   8.344650268554688e-06   2.1457672119140625e-06   2.86102294921875e-06\n",
            "amanda   39.50977500432694   0.0001926422119140625   9.059906005859375e-06   2.384185791015625e-06   3.337860107421875e-06\n",
            "loveyou   46.094737505048094   0.0001628398895263672   3.5762786865234375e-06   1.430511474609375e-06   1.6689300537109375e-06\n",
            "pretty   39.50977500432694   0.00020122528076171875   7.3909759521484375e-06   2.1457672119140625e-06   2.6226043701171875e-06\n",
            "basketball   65.84962500721156   0.00013947486877441406   3.0994415283203125e-06   1.430511474609375e-06   1.430511474609375e-06\n",
            "andrew   39.50977500432694   0.00021314620971679688   9.298324584960938e-06   2.6226043701171875e-06   2.86102294921875e-06\n",
            "angels   39.50977500432694   0.00019860267639160156   1.049041748046875e-05   2.6226043701171875e-06   3.5762786865234375e-06\n",
            "tweety   39.50977500432694   0.00020647048950195312   8.344650268554688e-06   2.86102294921875e-06   2.86102294921875e-06\n",
            "flower   39.50977500432694   0.00018548965454101562   3.5762786865234375e-06   1.430511474609375e-06   1.6689300537109375e-06\n",
            "playboy   46.094737505048094   0.0001709461212158203   7.152557373046875e-06   2.6226043701171875e-06   2.6226043701171875e-06\n",
            "hello   32.92481250360578   0.00021123886108398438   6.9141387939453125e-06   2.6226043701171875e-06   2.6226043701171875e-06\n",
            "elizabeth   59.2646625064904   0.0001647472381591797   2.6226043701171875e-06   1.6689300537109375e-06   1.1920928955078125e-06\n",
            "hottie   39.50977500432694   0.00019478797912597656   8.106231689453125e-06   2.6226043701171875e-06   2.6226043701171875e-06\n",
            "tinkerbell   65.84962500721156   0.0001659393310546875   1.1444091796875e-05   3.337860107421875e-06   3.5762786865234375e-06\n",
            "charlie   46.094737505048094   0.00016117095947265625   3.5762786865234375e-06   1.430511474609375e-06   1.1920928955078125e-06\n",
            "samantha   52.67970000576925   0.0001595020294189453   2.384185791015625e-06   1.6689300537109375e-06   1.1920928955078125e-06\n",
            "barbie   39.50977500432694   0.00018334388732910156   2.6226043701171875e-06   1.1920928955078125e-06   1.430511474609375e-06\n",
            "chelsea   46.094737505048094   0.000186920166015625   1.0728836059570312e-05   3.0994415283203125e-06   3.5762786865234375e-06\n",
            "lovers   39.50977500432694   0.00019121170043945312   4.0531158447265625e-06   1.9073486328125e-06   1.6689300537109375e-06\n",
            "teamo   32.92481250360578   0.0001926422119140625   2.6226043701171875e-06   1.430511474609375e-06   1.1920928955078125e-06\n",
            "jasmine   46.094737505048094   0.00017213821411132812   9.059906005859375e-06   2.86102294921875e-06   2.86102294921875e-06\n",
            "brandon   46.094737505048094   0.0001723766326904297   7.62939453125e-06   2.86102294921875e-06   3.337860107421875e-06\n",
            "666666   39.50977500432694   0.0002028942108154297   6.9141387939453125e-06   2.384185791015625e-06   2.86102294921875e-06\n",
            "shadow   39.50977500432694   0.00017762184143066406   2.6226043701171875e-06   1.6689300537109375e-06   1.430511474609375e-06\n",
            "melissa   46.094737505048094   0.000171661376953125   6.9141387939453125e-06   2.86102294921875e-06   2.86102294921875e-06\n",
            "eminem   39.50977500432694   0.00017976760864257812   2.3603439331054688e-05   2.6226043701171875e-06   2.86102294921875e-06\n",
            "matthew   46.094737505048094   0.00016880035400390625   7.3909759521484375e-06   2.6226043701171875e-06   3.337860107421875e-06\n",
            "robert   39.50977500432694   0.00018858909606933594   3.0994415283203125e-06   1.6689300537109375e-06   1.430511474609375e-06\n",
            "danielle   52.67970000576925   0.00015234947204589844   2.384185791015625e-06   9.5367431640625e-07   1.1920928955078125e-06\n",
            "forever   46.094737505048094   0.00026798248291015625   1.0967254638671875e-05   3.337860107421875e-06   3.0994415283203125e-06\n",
            "family   39.50977500432694   0.00020623207092285156   5.7220458984375e-06   1.6689300537109375e-06   1.9073486328125e-06\n",
            "jonathan   52.67970000576925   0.00018715858459472656   9.775161743164062e-06   2.1457672119140625e-06   2.384185791015625e-06\n"
          ]
        }
      ]
    },
    {
      "cell_type": "code",
      "source": [
        "files.upload()\n",
        "print (\"+++ 1 ++++\")\n",
        "datos = []\n",
        "with open(\"archivo.txt\") as fname:\n",
        "\tlineas = fname.readlines()\n",
        "\tfor linea in lineas:\n",
        "\t\tdatos.append(linea.strip('\\n'))\n",
        "print (datos)"
      ],
      "metadata": {
        "colab": {
          "resources": {
            "http://localhost:8080/nbextensions/google.colab/files.js": {
              "data": "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",
              "ok": true,
              "headers": [
                [
                  "content-type",
                  "application/javascript"
                ]
              ],
              "status": 200,
              "status_text": ""
            }
          },
          "base_uri": "https://localhost:8080/",
          "height": 107
        },
        "id": "5EMwJb4fBIFQ",
        "outputId": "9c386fb2-5692-4a45-89de-6183a53c97e4"
      },
      "execution_count": null,
      "outputs": [
        {
          "output_type": "display_data",
          "data": {
            "text/plain": [
              "<IPython.core.display.HTML object>"
            ],
            "text/html": [
              "\n",
              "     <input type=\"file\" id=\"files-c4969a73-b1f3-4f0c-9fb1-369195fd4c99\" name=\"files[]\" multiple disabled\n",
              "        style=\"border:none\" />\n",
              "     <output id=\"result-c4969a73-b1f3-4f0c-9fb1-369195fd4c99\">\n",
              "      Upload widget is only available when the cell has been executed in the\n",
              "      current browser session. Please rerun this cell to enable.\n",
              "      </output>\n",
              "      <script src=\"/nbextensions/google.colab/files.js\"></script> "
            ]
          },
          "metadata": {}
        },
        {
          "output_type": "stream",
          "name": "stdout",
          "text": [
            "Saving archivo.txt to archivo (7).txt\n",
            "+++ 1 ++++\n",
            "['hola como estas', 'h0la', 'hóla', 'Hola', 'hOlá', 'hoIa  ']\n"
          ]
        }
      ]
    }
  ]
}